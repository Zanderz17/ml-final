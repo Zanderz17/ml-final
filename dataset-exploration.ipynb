{
 "cells": [
  {
   "cell_type": "code",
   "execution_count": 79,
   "metadata": {},
   "outputs": [],
   "source": [
    "import pandas as pd\n",
    "import numpy as np\n",
    "import librosa\n",
    "import librosa.display\n",
    "import matplotlib.pyplot as plt\n",
    "import IPython.display as ipd\n",
    "from PIL import Image\n",
    "import os\n"
   ]
  },
  {
   "cell_type": "code",
   "execution_count": 72,
   "metadata": {},
   "outputs": [],
   "source": [
    "\n",
    "def plot_spectrogram(Y, sr, hop_length, y_axis=\"linear\"):\n",
    "    plt.figure(figsize=(25, 10))\n",
    "    librosa.display.specshow(Y, \n",
    "                             sr=sr, \n",
    "                             hop_length=hop_length, \n",
    "                             x_axis=\"time\", \n",
    "                             y_axis=y_axis)\n",
    "    plt.colorbar(format=\"%+2.0f dB\")\n",
    "    plt.ylim(0, sr/2)  \n",
    "    plt.show()\n",
    "\n",
    "def wav_to_spectrogram(file_path):\n",
    "    audio, sr = librosa.load(file_path, sr=2000)  \n",
    "\n",
    "    FRAME_SIZE = 256  \n",
    "    HOP_SIZE = 64\n",
    "\n",
    "    S = librosa.stft(audio, n_fft=FRAME_SIZE, hop_length=HOP_SIZE)\n",
    "\n",
    "    Y = np.abs(S) ** 2\n",
    "\n",
    "    Y_log = librosa.power_to_db(Y)\n",
    "\n",
    "    plot_spectrogram(Y_log, sr, HOP_SIZE, y_axis=\"log\")"
   ]
  },
  {
   "cell_type": "code",
   "execution_count": 73,
   "metadata": {},
   "outputs": [],
   "source": [
    "# Load the CSV file into a DataFrame\n",
    "data = pd.read_csv('./train_labels.csv')\n",
    "\n",
    "# Filter and sample 4 entries for RightWhale\n",
    "right_whales = data[data['class'] == 'RightWhale'].sample(n=4)\n",
    "\n",
    "# Filter and sample 4 entries for NoWhale\n",
    "no_whales = data[data['class'] == 'NoWhale'].sample(n=4)\n",
    "\n",
    "# Extract idx from the sampled data\n",
    "right_whale_indices = right_whales['idx'].values\n",
    "no_whale_indices = no_whales['idx'].values"
   ]
  },
  {
   "cell_type": "code",
   "execution_count": 74,
   "metadata": {},
   "outputs": [
    {
     "name": "stdout",
     "output_type": "stream",
     "text": [
      "[5612 3904 9905 1081]\n",
      "[2570  502 5657 6663]\n"
     ]
    }
   ],
   "source": [
    "print(right_whale_indices)\n",
    "print(no_whale_indices)"
   ]
  },
  {
   "cell_type": "code",
   "execution_count": 81,
   "metadata": {},
   "outputs": [],
   "source": [
    "def combine_images_from_folder(folder_path, output_path):\n",
    "    image_files = [os.path.join(folder_path, file) for file in os.listdir(folder_path) if file.endswith(('.png', '.jpg', '.jpeg'))]\n",
    "\n",
    "    images = [Image.open(file) for file in image_files]\n",
    "    images_per_row = 2\n",
    "    row_widths = [sum(image.size[0] for image in images[i:i + images_per_row]) for i in range(0, len(images), images_per_row)]\n",
    "    max_width = max(row_widths) if row_widths else 0\n",
    "    row_heights = [max(image.size[1] for image in images[i:i + images_per_row]) for i in range(0, len(images), images_per_row)]\n",
    "    total_height = sum(row_heights)\n",
    "\n",
    "    combined_image = Image.new('RGB', (max_width, total_height))\n",
    "\n",
    "    y_offset = 0\n",
    "    for i in range(0, len(images), images_per_row):\n",
    "        x_offset = 0\n",
    "        for image in images[i:i + images_per_row]:\n",
    "            combined_image.paste(image, (x_offset, y_offset))\n",
    "            x_offset += image.size[0]\n",
    "        y_offset += row_heights[i // images_per_row]\n",
    "\n",
    "    combined_image.save(output_path)\n",
    "\n",
    "\n"
   ]
  },
  {
   "cell_type": "code",
   "execution_count": null,
   "metadata": {},
   "outputs": [],
   "source": [
    "folder_path = './dataset-exploration/no_whale_indices' \n",
    "output_path = './dataset-exploration/no_whale.png'  \n",
    "combine_images_from_folder(folder_path, output_path)"
   ]
  },
  {
   "cell_type": "code",
   "execution_count": 83,
   "metadata": {},
   "outputs": [],
   "source": [
    "folder_path = './dataset-exploration/right_whale_indices/' \n",
    "output_path = './dataset-exploration/right_whale.png'  \n",
    "combine_images_from_folder(folder_path, output_path)"
   ]
  },
  {
   "cell_type": "code",
   "execution_count": 97,
   "metadata": {},
   "outputs": [
    {
     "name": "stderr",
     "output_type": "stream",
     "text": [
      "/tmp/ipykernel_91911/2106041685.py:11: FutureWarning: \n",
      "\n",
      "Passing `palette` without assigning `hue` is deprecated and will be removed in v0.14.0. Assign the `y` variable to `hue` and set `legend=False` for the same effect.\n",
      "\n",
      "  ax = sns.barplot(x='Frequency', y='Class', data=class_counts, palette='pastel')\n"
     ]
    },
    {
     "data": {
      "image/png": "[encoded data removed]",
      "text/plain": [
       "<Figure size 1400x800 with 1 Axes>"
      ]
     },
     "metadata": {},
     "output_type": "display_data"
    }
   ],
   "source": [
    "import pandas as pd\n",
    "import seaborn as sns\n",
    "import matplotlib.pyplot as plt\n",
    "\n",
    "df = pd.read_csv('./data/train.csv')\n",
    "class_counts = df['class'].value_counts().reset_index()\n",
    "class_counts.columns = ['Class', 'Frequency']\n",
    "\n",
    "sns.set(style=\"whitegrid\")\n",
    "plt.figure(figsize=(14, 8))\n",
    "ax = sns.barplot(x='Frequency', y='Class', data=class_counts, palette='pastel')\n",
    "\n",
    "ax.set_title('Frecuencia de clases', fontsize=20)\n",
    "ax.set_xlabel('Frecuencia', fontsize=14)\n",
    "ax.set_ylabel('Clase', fontsize=14)\n",
    "plt.xticks(fontsize=12)\n",
    "plt.yticks(fontsize=12)\n",
    "\n",
    "for p in ax.patches:\n",
    "    width = p.get_width()\n",
    "    ax.annotate(f'{int(width)}',\n",
    "                (p.get_x() + width, p.get_y() + p.get_height() / 2),\n",
    "                ha='left', va='center', fontsize=14, color='black', xytext=(5, 0),\n",
    "                textcoords='offset points')\n",
    "\n",
    "plt.show()\n"
   ]
  }
 ],
 "metadata": {
  "kernelspec": {
   "display_name": "env",
   "language": "python",
   "name": "python3"
  },
  "language_info": {
   "codemirror_mode": {
    "name": "ipython",
    "version": 3
   },
   "file_extension": ".py",
   "mimetype": "text/x-python",
   "name": "python",
   "nbconvert_exporter": "python",
   "pygments_lexer": "ipython3",
   "version": "3.10.12"
  }
 },
 "nbformat": 4,
 "nbformat_minor": 2
}
