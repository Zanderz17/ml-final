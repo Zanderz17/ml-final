{
 "cells": [
  {
   "cell_type": "code",
   "execution_count": 2,
   "metadata": {},
   "outputs": [],
   "source": [
    "import os\n",
    "import shutil\n",
    "from math import ceil\n",
    "\n",
    "def distribute_files(source_folder, num_folders):\n",
    "    files = [f for f in os.listdir(source_folder) if f.endswith('.wav')]\n",
    "\n",
    "    files_per_folder = ceil(len(files) / num_folders)\n",
    "\n",
    "    # Crear subcarpetas y distribuir los archivos\n",
    "    for i in range(num_folders):\n",
    "        subfolder_path = os.path.join(source_folder, f'subfolder_{i + 1}')\n",
    "        os.makedirs(subfolder_path, exist_ok=True)\n",
    "        \n",
    "        for file in files[i*files_per_folder:(i+1)*files_per_folder]:\n",
    "            shutil.move(os.path.join(source_folder, file), subfolder_path)"
   ]
  },
  {
   "cell_type": "code",
   "execution_count": 3,
   "metadata": {},
   "outputs": [],
   "source": [
    "source_folder = './data-in-files/train'  \n",
    "num_folders = 20  \n",
    "distribute_files(source_folder, num_folders)"
   ]
  }
 ],
 "metadata": {
  "kernelspec": {
   "display_name": "env",
   "language": "python",
   "name": "python3"
  },
  "language_info": {
   "codemirror_mode": {
    "name": "ipython",
    "version": 3
   },
   "file_extension": ".py",
   "mimetype": "text/x-python",
   "name": "python",
   "nbconvert_exporter": "python",
   "pygments_lexer": "ipython3",
   "version": "3.10.12"
  }
 },
 "nbformat": 4,
 "nbformat_minor": 2
}
