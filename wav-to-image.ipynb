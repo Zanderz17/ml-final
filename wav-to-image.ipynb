{
 "cells": [
  {
   "cell_type": "code",
   "execution_count": 2,
   "metadata": {},
   "outputs": [],
   "source": [
    "import os\n",
    "import numpy as np\n",
    "import librosa\n",
    "import librosa.display\n",
    "import matplotlib.pyplot as plt\n",
    "from PIL import Image\n",
    "\n",
    "def plot_spectrogram(Y, sr, hop_length, output_path=None):\n",
    "    plt.figure(figsize=(12, 6))\n",
    "    ax = plt.axes()\n",
    "    ax.set_axis_off()\n",
    "    librosa.display.specshow(Y, sr=sr, hop_length=hop_length, x_axis='time', y_axis='log', cmap='gray')\n",
    "    if output_path:\n",
    "        plt.savefig(output_path, bbox_inches='tight', pad_inches=0, format='png')\n",
    "    plt.close()\n",
    "\n",
    "def wav_to_spectrogram(file_path):\n",
    "    # Load audio file\n",
    "    audio, sr = librosa.load(file_path, sr=2000)\n",
    "\n",
    "    # Parameters for STFT\n",
    "    FRAME_SIZE = 256\n",
    "    HOP_SIZE = 64\n",
    "\n",
    "    # Compute Short-Time Fourier Transform (STFT)\n",
    "    S = librosa.stft(audio, n_fft=FRAME_SIZE, hop_length=HOP_SIZE)\n",
    "\n",
    "    # Convert to power spectrogram\n",
    "    Y = np.abs(S) ** 2\n",
    "\n",
    "    # Convert to log-amplitude spectrogram\n",
    "    Y_log = librosa.power_to_db(Y)\n",
    "\n",
    "    return Y_log, sr, HOP_SIZE\n",
    "\n",
    "def process_audio_files_in_batches(input_folder, output_folder, batch_size=10):\n",
    "    if not os.path.exists(output_folder):\n",
    "        os.makedirs(output_folder)\n",
    "    \n",
    "    filenames = [f for f in os.listdir(input_folder) if f.endswith(\".wav\")]\n",
    "    total_files = len(filenames)\n",
    "    num_batches = (total_files + batch_size - 1) // batch_size  # Calculate number of batches\n",
    "\n",
    "    for batch in range(num_batches):\n",
    "        start_index = batch * batch_size\n",
    "        end_index = min(start_index + batch_size, total_files)\n",
    "        for filename in filenames[start_index:end_index]:\n",
    "            input_path = os.path.join(input_folder, filename)\n",
    "            output_path = os.path.join(output_folder, f\"{os.path.splitext(filename)[0]}.png\")\n",
    "            Y_log, sr, hop_length = wav_to_spectrogram(input_path)\n",
    "            plot_spectrogram(Y_log, sr, hop_length, output_path=output_path)"
   ]
  },
  {
   "cell_type": "code",
   "execution_count": null,
   "metadata": {},
   "outputs": [],
   "source": [
    "input_folder = \"./data-in-files/train/subfolder_20/\"\n",
    "output_folder = \"./data-images/train\"\n",
    "process_audio_files_in_batches(input_folder, output_folder)"
   ]
  },
  {
   "cell_type": "code",
   "execution_count": 27,
   "metadata": {},
   "outputs": [],
   "source": [
    "\n",
    "\n",
    "def count_wav_files(directory):\n",
    "    count = 0\n",
    "    for root, dirs, files in os.walk(directory):\n",
    "        for file in files:\n",
    "            if file.endswith('.wav'):\n",
    "                count += 1\n",
    "    return count\n",
    "\n",
    "\n",
    "def count_png_files(directory):\n",
    "    count = 0\n",
    "    for root, dirs, files in os.walk(directory):\n",
    "        for file in files:\n",
    "            if file.endswith('.png'):\n",
    "                count += 1\n",
    "    return count\n",
    "\n"
   ]
  },
  {
   "cell_type": "code",
   "execution_count": 33,
   "metadata": {},
   "outputs": [
    {
     "name": "stdout",
     "output_type": "stream",
     "text": [
      "Total de archivos .wav: 10934\n"
     ]
    }
   ],
   "source": [
    "directory = './data/train/' \n",
    "total_wav_files = count_wav_files(directory)\n",
    "print(f\"Total de archivos .wav: {total_wav_files}\")"
   ]
  },
  {
   "cell_type": "code",
   "execution_count": 29,
   "metadata": {},
   "outputs": [
    {
     "name": "stdout",
     "output_type": "stream",
     "text": [
      "Total de archivos .wav: 10934\n"
     ]
    }
   ],
   "source": [
    "directory = './data-in-files/train/' \n",
    "total_wav_files = count_wav_files(directory)\n",
    "print(f\"Total de archivos .wav: {total_wav_files}\")"
   ]
  },
  {
   "cell_type": "code",
   "execution_count": 34,
   "metadata": {},
   "outputs": [
    {
     "name": "stdout",
     "output_type": "stream",
     "text": [
      "Total de archivos .png: 10934\n"
     ]
    }
   ],
   "source": [
    "directory = './data-images/train/' \n",
    "total_wav_files = count_png_files(directory)\n",
    "print(f\"Total de archivos .png: {total_wav_files}\")"
   ]
  }
 ],
 "metadata": {
  "kernelspec": {
   "display_name": "env",
   "language": "python",
   "name": "python3"
  },
  "language_info": {
   "codemirror_mode": {
    "name": "ipython",
    "version": 3
   },
   "file_extension": ".py",
   "mimetype": "text/x-python",
   "name": "python",
   "nbconvert_exporter": "python",
   "pygments_lexer": "ipython3",
   "version": "3.10.12"
  }
 },
 "nbformat": 4,
 "nbformat_minor": 2
}
